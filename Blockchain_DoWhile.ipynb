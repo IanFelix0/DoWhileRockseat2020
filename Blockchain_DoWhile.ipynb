{
  "nbformat": 4,
  "nbformat_minor": 0,
  "metadata": {
    "colab": {
      "name": "Blockchain_DoWhile.ipynb",
      "provenance": []
    },
    "kernelspec": {
      "name": "python3",
      "display_name": "Python 3"
    }
  },
  "cells": [
    {
      "cell_type": "markdown",
      "metadata": {
        "id": "0rgylteceMoE"
      },
      "source": [
        "#Blockchain\n",
        "\n",
        "---\n",
        "\n",
        "Principais Componentes de um Projeto Blockchain:\n",
        ">\n",
        "1. Cliente\n",
        "  - Quem faz a a compra(receber) ou a venda(enviar) do ativo\n",
        "  - Principais agentes que faz o ativo circular\n",
        "2. Minerador\n",
        "  - Quem pega as transações e monta um bloco\n",
        "  - Gera a Prova do trabalho dado para receber a recompensa \n",
        "  - Pode executar as pricipais operações do cliente \n",
        "3. Blockchain\n",
        "  - Estrutura de dados em cadeia de todos os blocos em ordem cronológica\n",
        "  - Essa cadeia é Imutável,  característica responsável por mantes a integridade da cadeia \n",
        "\n",
        "\n",
        "[Referência](https://www.tutorialspoint.com/python_blockchain/index.htm)"
      ]
    },
    {
      "cell_type": "markdown",
      "metadata": {
        "id": "Hct0KnkDX0nZ"
      },
      "source": [
        ""
      ]
    },
    {
      "cell_type": "code",
      "metadata": {
        "id": "Xv23gpg6YhF-"
      },
      "source": [
        ""
      ],
      "execution_count": null,
      "outputs": []
    },
    {
      "cell_type": "markdown",
      "metadata": {
        "id": "4KTjWXsxfqUr"
      },
      "source": [
        "#Hash SHA256\n",
        "\n",
        "---\n",
        "\n",
        "1. Secury Hash Algoritm\n",
        "1. Identificador único das informações do bloco de 64 digítos Hexadecimais\n",
        "1. Possui 256 bits na memória\n",
        "1. Cálculo rápido\n",
        "1. Qualquer mudança altera o hash\n",
        "1. Alterando o hash altera o conteúdo dos dados\n",
        "\n",
        "\n"
      ]
    },
    {
      "cell_type": "code",
      "metadata": {
        "colab": {
          "base_uri": "https://localhost:8080/",
          "height": 621
        },
        "id": "RUqAa2QVhN1J",
        "outputId": "5bac3338-6f38-4436-d81b-2b3bdfd2a34b"
      },
      "source": [
        "\n",
        "\n",
        "from IPython.display import IFrame\n",
        "\n",
        "IFrame(src='https://emn178.github.io/online-tools/sha256.html', width=1000, height=600)\n"
      ],
      "execution_count": null,
      "outputs": [
        {
          "output_type": "execute_result",
          "data": {
            "text/html": [
              "\n",
              "        <iframe\n",
              "            width=\"1000\"\n",
              "            height=\"600\"\n",
              "            src=\"https://emn178.github.io/online-tools/sha256.html\"\n",
              "            frameborder=\"0\"\n",
              "            allowfullscreen\n",
              "        ></iframe>\n",
              "        "
            ],
            "text/plain": [
              "<IPython.lib.display.IFrame at 0x7f99db5d73c8>"
            ]
          },
          "metadata": {
            "tags": []
          },
          "execution_count": 1
        }
      ]
    },
    {
      "cell_type": "markdown",
      "metadata": {
        "id": "1b14juATf7m_"
      },
      "source": [
        "#Hash SHA56\n",
        "\n",
        "---\n",
        "\n",
        "1. Serve para Detectar o Bloco, assim como uma biometria identifica o cidadão\n",
        "1. Base do Blochchain\n",
        "1. Open Source\n",
        "1. O algoritmo prevê se hash iguais vem de situações diferentes ou de situações de alteração do algoritmo original\n",
        "\n",
        "---\n",
        "\n",
        "###### Mais informações: \n",
        "\n",
        "[Referência](https://www.youtube.com/watch?v=rbZ2B3_82eY)\n",
        "\n",
        "\n"
      ]
    },
    {
      "cell_type": "code",
      "metadata": {
        "colab": {
          "base_uri": "https://localhost:8080/"
        },
        "id": "cPD6crw1mB4D",
        "outputId": "dd60252e-0f0c-4acf-c820-2a5ea7a9676b"
      },
      "source": [
        "''' Exemplo de hash'''\n",
        "\n",
        "import hashlib #Como usar essa lib \n",
        "\n",
        "h = hashlib.sha256()# gera uma instância do SHA256\n",
        "\n",
        "\n",
        "h.update(b\"uma frase qualquer\")# Atualiza o Hash com informação em byte\n",
        "                              \n",
        "print(h.hexdigest())# 64 caracteres em Hexadecimal\n",
        "\n"
      ],
      "execution_count": null,
      "outputs": [
        {
          "output_type": "stream",
          "text": [
            "2c7352c8cd51b0c07bc83c86e7c8e0fdace53e236fae91821ebfbfacc0a6592e\n",
            "64\n"
          ],
          "name": "stdout"
        }
      ]
    },
    {
      "cell_type": "code",
      "metadata": {
        "colab": {
          "base_uri": "https://localhost:8080/"
        },
        "id": "JdyOEVrf0Uq7",
        "outputId": "538a17a0-0a3b-405b-9a21-e21c0def6c96"
      },
      "source": [
        "import hashlib\n",
        "\n",
        "h = hashlib.sha256(\"UM CONTEUDO QUALUQER\".encode()).hexdigest()\n",
        "print(h)"
      ],
      "execution_count": null,
      "outputs": [
        {
          "output_type": "stream",
          "text": [
            "e725a08ced4a48f473696dee241d86957865fe0bb07f9260e04871a3762f8bdf\n"
          ],
          "name": "stdout"
        }
      ]
    },
    {
      "cell_type": "markdown",
      "metadata": {
        "id": "xasITbqPfV0a"
      },
      "source": [
        "# Bloco\n",
        "\n",
        "A unidade básica do blockchain bloco e possui as seguintes informações:\n",
        "\n",
        "---\n",
        "\n",
        "\n",
        ">1. Indice\n",
        "2. Timestamp\n",
        "3. Transação\n",
        "4. Hash Bloco Atual\n",
        "5. Hash Anterior\n",
        "6. Nonce \n",
        "  - Numero randomico usado somente 1 vez\n",
        "  - **N** = Numero\n",
        "  - **Once** = Uma vez\n",
        "\n",
        "\n",
        "\n",
        "\n",
        "\n"
      ]
    },
    {
      "cell_type": "code",
      "metadata": {
        "id": "FNojReKYe16c"
      },
      "source": [
        "from datetime import datetime # datetime.timestamp(now)\n",
        "import hashlib #Trabalha com hash SHA256\n",
        "\n",
        "\n",
        "class Bloco:\n",
        "  def __init__(self, index, transacao, hash_anterior=\" \"):\n",
        "      self.index = index\n",
        "      self.transacao = transacao\n",
        "      self.timestamp = datetime.now()\n",
        "      self.hash_anterior = hash_anterior\n",
        "      self.nonce = 0;\n",
        "      self.geraHash()\n",
        " \n",
        "      \n",
        "  def geraHash(self):\n",
        "      cadeiaInfo =  str(self.index)+\" \" +  str(self.timestamp) + \" \".join(self.transacao)+ \" \" +str(self.hash_anterior)+\" \" + str(self.nonce)\n",
        "      self.hash = hashlib.sha256(cadeiaInfo.encode()).hexdigest()\n",
        "\n",
        "  def getHash(self):\n",
        "     return self.hash\n",
        "\n",
        "  def getHashAnterior(self):\n",
        "     return self.hash_anterior\n",
        "\n",
        "  def proofofWork(self, dificuldade):\n",
        "    while (self.hash[:dificuldade]!= '0'*dificuldade ):\n",
        "      self.nonce += 1\n",
        "      self.geraHash()\n",
        "  \n",
        "\n",
        "       \n",
        "\n",
        "\n"
      ],
      "execution_count": null,
      "outputs": []
    },
    {
      "cell_type": "code",
      "metadata": {
        "id": "8WeyZRxd0ScU"
      },
      "source": [
        ""
      ],
      "execution_count": null,
      "outputs": []
    },
    {
      "cell_type": "markdown",
      "metadata": {
        "id": "DTZ5WvBljXYO"
      },
      "source": [
        "#Blockchain\n",
        "\n",
        "---\n",
        "\n",
        "> ## **Estrutura distribuída, na qual os blocos dessa estrutura estará vinculados um a outro  em ordem cronológica**\n",
        "\n",
        "###Principais características\n",
        ">\n",
        "1. Imutável\n",
        "1. Inquebrável\n",
        "1. Persistente\n",
        "1. Distribuído\n"
      ]
    },
    {
      "cell_type": "code",
      "metadata": {
        "id": "dl3ThtJPiDvf"
      },
      "source": [
        "class Blockchain:\n",
        "  def __init__(self):\n",
        "    self.blockchain = [self.genesisBloco()]\n",
        "    self.dificuldade = 4;\n",
        "  \n",
        "  def genesisBloco(self):\n",
        "    return Bloco(1, ['XXXXXX', 'XX'],\"0\")\n",
        "\n",
        "  def ultimoBloco(self):\n",
        "      return self.blockchain[-1]\n",
        "\n",
        "  def cadeia(self):\n",
        "        return self.blockchain[:]\n",
        "\n",
        "  def adicionaNovoBloco(self,indice, transacao):\n",
        "      hashAnterior = self.ultimoBloco().getHash()\n",
        "      novoBloco = Bloco(indice, transacao, hashAnterior )\n",
        "      novoBloco.proofofWork(self.dificuldade)\n",
        "      self.blockchain.append( novoBloco)\n",
        "\n",
        "\n",
        "  def verificaCadeia(self):\n",
        "    unidade = 1\n",
        "    while (unidade< len(self.blockchain)):\n",
        "      h_blocoAnterior = self.blockchain[unidade - 1].getHash()\n",
        "      h_blocoAtual = self.blockchain[unidade].getHashAnterior()\n",
        "      if (h_blocoAtual != h_blocoAnterior):\n",
        "        return False\n",
        "      unidade += 1\n",
        "    return True\n",
        "\n",
        "    "
      ],
      "execution_count": null,
      "outputs": []
    },
    {
      "cell_type": "code",
      "metadata": {
        "colab": {
          "base_uri": "https://localhost:8080/"
        },
        "id": "nDpZ8Mxqj0kT",
        "outputId": "88b39a66-2cbe-4599-ebd2-97e62415c62e"
      },
      "source": [
        "bc = Blockchain()\n",
        "\n",
        "bc.adicionaNovoBloco(1, [' Daniele Nazare', '22'])\n",
        "bc.adicionaNovoBloco(2, [' Daniele Nazaré ', '11', 'https://github.com/danynt14'])\n",
        "bc.adicionaNovoBloco(3, [' Daniele Nazaré ', '11', 'https://github.com/danynt14'])\n",
        "\n",
        "bc.verificaCadeia()"
      ],
      "execution_count": null,
      "outputs": [
        {
          "output_type": "execute_result",
          "data": {
            "text/plain": [
              "True"
            ]
          },
          "metadata": {
            "tags": []
          },
          "execution_count": 8
        }
      ]
    },
    {
      "cell_type": "code",
      "metadata": {
        "colab": {
          "base_uri": "https://localhost:8080/"
        },
        "id": "DxZGt46R3gNV",
        "outputId": "e48bfcd4-66af-4ca6-b7df-2417efb0508a"
      },
      "source": [
        "bc1 = Blockchain()\n",
        "\n",
        "bc1.adicionaNovoBloco(1, ['Daniele', 'Freelancer', '27'])\n",
        "bc1.adicionaNovoBloco(12, ['Ana', 'cozinheir'])\n",
        "\n",
        "bc.verificaCadeia()\n",
        "bc.cadeia()\n",
        "\n"
      ],
      "execution_count": null,
      "outputs": [
        {
          "output_type": "execute_result",
          "data": {
            "text/plain": [
              "[<__main__.Bloco at 0x7f99db5d7a20>,\n",
              " <__main__.Bloco at 0x7f99db5d7588>,\n",
              " <__main__.Bloco at 0x7f99db5d7b00>,\n",
              " <__main__.Bloco at 0x7f99db5d7e10>]"
            ]
          },
          "metadata": {
            "tags": []
          },
          "execution_count": 14
        }
      ]
    },
    {
      "cell_type": "code",
      "metadata": {
        "id": "x-YHXW0k9mx-"
      },
      "source": [
        "'danynt14'"
      ],
      "execution_count": null,
      "outputs": []
    }
  ]
}